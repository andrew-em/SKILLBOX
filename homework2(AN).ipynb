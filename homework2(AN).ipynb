{
 "cells": [
  {
   "cell_type": "markdown",
   "metadata": {
    "id": "7lPyzNzeLIOj"
   },
   "source": [
    "# Базовые структуры данных\n",
    "\n",
    "\n",
    "\n",
    "## Домашнее задание \n",
    "\n",
    "### Описание домашнего задания и формат сдачи\n",
    "\n",
    "Решите предложенные задачи по программированию — впишите свой код в ячейки после условий задач вместо комментария `### YOUR CODE HERE ###` в файле *jun_anl_data_structures.ipynb* и сохраните изменения, используя опцию *Save and Checkpoint* из вкладки меню *File* или кнопку *Save and Checkpoint* на панели инструментов. Итоговый файл в формате `.ipynb` (файл Jupyter Notebook) загрузите в личный кабинет обучающей онлайн-платформы Skillbox (https://go.skillbox.ru/) и отправьте на проверку."
   ]
  },
  {
   "cell_type": "markdown",
   "metadata": {
    "id": "awb1K2hlLIOl"
   },
   "source": [
    "**NB!** Во всех заданиях обязательно наличие выдачи."
   ]
  },
  {
   "cell_type": "markdown",
   "metadata": {
    "id": "3ndIOSVeLIOm"
   },
   "source": [
    "## Индексация списка"
   ]
  },
  {
   "cell_type": "markdown",
   "metadata": {
    "id": "YBj2DZxnmQzq"
   },
   "source": [
    "**Цель блока заданий:** в данном блоке задач вы потренируетесь вызывать элементы или группы элементов из списка. \n",
    "\n",
    "**Рекомендации к выполнению блока заданий:** попробуйте разделить задание на части, поэтапно вызывайте по индексу составные части (которые могут также являться списками) из списка, пока не дойдёте до нужного элемента.\n",
    "\n",
    "**Критерии оценки:** задания считаются выполненными, если выдача строго соответствует примеру из каждого задания. Допустим, в пятом задании результатом должен быть список с единственным элементом, равным 74."
   ]
  },
  {
   "cell_type": "code",
   "execution_count": null,
   "metadata": {
    "id": "XSWqZnZ2LIOo"
   },
   "outputs": [],
   "source": [
    "L = [[[1, 2, 3, 4, 5, 6, 7, 8, 9, 10], [11, 12, 13, 14, 15, 16, 17, 18, 19, 20]], \n",
    "    [[21, 22, 23, 24, 25, 26, 27, 28, 29, 30], [31, 32, 33, 34, 35, 36, 37, 38, 39, 40]], \n",
    "    [[41, 42, 43, 44, 45], [46, [47, 48], 49, 50], [51, 52, 53, 54, 55], [56, 57, 58, 59, 60]], \n",
    "    [61, 62, 63, [64, 65, 66, 67, 68, 69, 70, 71], 72, 73, 74, [75, [76, 77, 78], 79], 80], \n",
    "    [81, 82, 83, 84, 85, 86, 87, 88, 89, 90, 91, 92, 93, 94, 95, 96, 97, 98, 99, 100]]"
   ]
  },
  {
   "cell_type": "markdown",
   "metadata": {
    "id": "jwigC9WlLIOt"
   },
   "source": [
    "### 1.\n",
    "Из приведённого выше списка списков выведите с помощью индексов число `7`."
   ]
  },
  {
   "cell_type": "code",
   "execution_count": null,
   "metadata": {
    "id": "EQllu6Y1wPbg"
   },
   "outputs": [],
   "source": [
    "L = [[[1, 2, 3, 4, 5, 6, 7, 8, 9, 10], [11, 12, 13, 14, 15, 16, 17, 18, 19, 20]], \n",
    "    [[21, 22, 23, 24, 25, 26, 27, 28, 29, 30], [31, 32, 33, 34, 35, 36, 37, 38, 39, 40]], \n",
    "    [[41, 42, 43, 44, 45], [46, [47, 48], 49, 50], [51, 52, 53, 54, 55], [56, 57, 58, 59, 60]], \n",
    "    [61, 62, 63, [64, 65, 66, 67, 68, 69, 70, 71], 72, 73, 74, [75, [76, 77, 78], 79], 80], \n",
    "    [81, 82, 83, 84, 85, 86, 87, 88, 89, 90, 91, 92, 93, 94, 95, 96, 97, 98, 99, 100]]"
   ]
  },
  {
   "cell_type": "code",
   "execution_count": null,
   "metadata": {
    "id": "2NuYfVpvwPbn"
   },
   "outputs": [],
   "source": [
    "L = spisok"
   ]
  },
  {
   "cell_type": "code",
   "execution_count": null,
   "metadata": {
    "id": "viZWG0l8wPbs",
    "outputId": "baaef34e-0b87-44bb-f2bb-7c1b1a2195c4"
   },
   "outputs": [
    {
     "data": {
      "text/plain": [
       "[[1, 2, 3, 4, 5, 6, 7, 8, 9, 10], [11, 12, 13, 14, 15, 16, 17, 18, 19, 20]]"
      ]
     },
     "execution_count": 13,
     "metadata": {
      "tags": []
     },
     "output_type": "execute_result"
    }
   ],
   "source": [
    "spisok[0]"
   ]
  },
  {
   "cell_type": "code",
   "execution_count": null,
   "metadata": {
    "id": "i0pxi7q_wPby"
   },
   "outputs": [],
   "source": [
    "spisok1 = spisok[0]"
   ]
  },
  {
   "cell_type": "code",
   "execution_count": null,
   "metadata": {
    "id": "hxcm1pNhwPb3",
    "outputId": "8e54f3c0-610c-435e-a602-a4b00e8ff570"
   },
   "outputs": [
    {
     "data": {
      "text/plain": [
       "[1, 2, 3, 4, 5, 6, 7, 8, 9, 10]"
      ]
     },
     "execution_count": 15,
     "metadata": {
      "tags": []
     },
     "output_type": "execute_result"
    }
   ],
   "source": [
    "spisok1[0]"
   ]
  },
  {
   "cell_type": "code",
   "execution_count": null,
   "metadata": {
    "id": "_H9Be8yhwPb7"
   },
   "outputs": [],
   "source": [
    "spisok2 = [1, 2, 3, 4, 5, 6, 7, 8, 9, 10]"
   ]
  },
  {
   "cell_type": "code",
   "execution_count": null,
   "metadata": {
    "id": "GPEAs_U8wPcB",
    "outputId": "bc061c80-2846-41c3-ef3c-d85a8f2b7516"
   },
   "outputs": [
    {
     "data": {
      "text/plain": [
       "7"
      ]
     },
     "execution_count": 7,
     "metadata": {
      "tags": []
     },
     "output_type": "execute_result"
    }
   ],
   "source": [
    "spisok2[6]"
   ]
  },
  {
   "cell_type": "markdown",
   "metadata": {
    "id": "TF6eb9fYLIOw"
   },
   "source": [
    "### 2.\n",
    "Из приведённого выше списка списков выведите с помощью индексов число `49`."
   ]
  },
  {
   "cell_type": "code",
   "execution_count": null,
   "metadata": {
    "id": "SYg1nanPwPcG",
    "outputId": "ba01057b-69fd-48f0-fa23-15899e5089ed"
   },
   "outputs": [
    {
     "data": {
      "text/plain": [
       "49"
      ]
     },
     "execution_count": 16,
     "metadata": {
      "tags": []
     },
     "output_type": "execute_result"
    }
   ],
   "source": [
    "spisok[2][1][2]"
   ]
  },
  {
   "cell_type": "markdown",
   "metadata": {
    "id": "FBDB0JeBLIO1"
   },
   "source": [
    "### 3.\n",
    "Из приведённого выше списка списков выведите с помощью индексов число `78`."
   ]
  },
  {
   "cell_type": "code",
   "execution_count": null,
   "metadata": {
    "id": "lxsbzi6YwPcM",
    "outputId": "be24fd96-9571-473b-d1e9-424663c87a1b"
   },
   "outputs": [
    {
     "data": {
      "text/plain": [
       "78"
      ]
     },
     "execution_count": 17,
     "metadata": {
      "tags": []
     },
     "output_type": "execute_result"
    }
   ],
   "source": [
    "spisok[3][7][1][2]"
   ]
  },
  {
   "cell_type": "markdown",
   "metadata": {
    "id": "gnaTfR3BLIO5"
   },
   "source": [
    "### 4.\n",
    "Из приведённого выше списка списков выведите с помощью индексов (используя **отрицательные значения**) число `99`."
   ]
  },
  {
   "cell_type": "code",
   "execution_count": null,
   "metadata": {
    "id": "ccYmf9-LwPcR",
    "outputId": "f13611ab-7e63-4563-889d-efee02f1e07c"
   },
   "outputs": [
    {
     "data": {
      "text/plain": [
       "99"
      ]
     },
     "execution_count": 18,
     "metadata": {
      "tags": []
     },
     "output_type": "execute_result"
    }
   ],
   "source": [
    "spisok[-1][-2]"
   ]
  },
  {
   "cell_type": "markdown",
   "metadata": {
    "id": "07mV6-oeLIO-"
   },
   "source": [
    "### 5.\n",
    "Из приведённого выше списка списков сделайте **срез** с числом `74`. "
   ]
  },
  {
   "cell_type": "code",
   "execution_count": null,
   "metadata": {
    "id": "OM-zgJ15LIO-"
   },
   "outputs": [],
   "source": [
    "spisok = [[[1, 2, 3, 4, 5, 6, 7, 8, 9, 10], [11, 12, 13, 14, 15, 16, 17, 18, 19, 20]], \n",
    "    [[21, 22, 23, 24, 25, 26, 27, 28, 29, 30], [31, 32, 33, 34, 35, 36, 37, 38, 39, 40]], \n",
    "    [[41, 42, 43, 44, 45], [46, [47, 48], 49, 50], [51, 52, 53, 54, 55], [56, 57, 58, 59, 60]], \n",
    "    [61, 62, 63, [64, 65, 66, 67, 68, 69, 70, 71], 72, 73, 74, [75, [76, 77, 78], 79], 80], \n",
    "    [81, 82, 83, 84, 85, 86, 87, 88, 89, 90, 91, 92, 93, 94, 95, 96, 97, 98, 99, 100]]"
   ]
  },
  {
   "cell_type": "code",
   "execution_count": null,
   "metadata": {
    "id": "C5VfzxrOwPce",
    "outputId": "a3ee40d8-446d-481d-f5f8-fcdd1ec48e64"
   },
   "outputs": [
    {
     "data": {
      "text/plain": [
       "74"
      ]
     },
     "execution_count": 19,
     "metadata": {
      "tags": []
     },
     "output_type": "execute_result"
    }
   ],
   "source": [
    "spisok[3][6:7][0]"
   ]
  },
  {
   "cell_type": "markdown",
   "metadata": {
    "id": "TE82rH0CLIPB"
   },
   "source": [
    "### 6.\n",
    "Из приведённого выше списка списков сделайте **срез** с числами `47, 48`. "
   ]
  },
  {
   "cell_type": "code",
   "execution_count": null,
   "metadata": {
    "id": "MKpqyOINLIPD",
    "outputId": "2c33d737-4fd5-492b-c4f3-c91f9a6755dd"
   },
   "outputs": [
    {
     "data": {
      "text/plain": [
       "47"
      ]
     },
     "execution_count": 20,
     "metadata": {
      "tags": []
     },
     "output_type": "execute_result"
    }
   ],
   "source": [
    "spisok[2][-3:-2][0][1][0]"
   ]
  },
  {
   "cell_type": "code",
   "execution_count": null,
   "metadata": {
    "id": "e4gFLc8CwPcq",
    "outputId": "767a1b63-f18f-4909-e9ff-0858015ad5ff"
   },
   "outputs": [
    {
     "data": {
      "text/plain": [
       "48"
      ]
     },
     "execution_count": 21,
     "metadata": {
      "tags": []
     },
     "output_type": "execute_result"
    }
   ],
   "source": [
    "spisok[2][-3:-2][0][1][1]"
   ]
  },
  {
   "cell_type": "code",
   "execution_count": null,
   "metadata": {
    "id": "dsYM4sZjwPcu"
   },
   "outputs": [],
   "source": [
    "spisok1 = spisok[2][-3:-2][0][1][0]"
   ]
  },
  {
   "cell_type": "code",
   "execution_count": null,
   "metadata": {
    "id": "CPiMvP2LwPcx"
   },
   "outputs": [],
   "source": [
    "spisok2 = spisok[2][-3:-2][0][1][1]"
   ]
  },
  {
   "cell_type": "code",
   "execution_count": null,
   "metadata": {
    "id": "H7ahItqDwPc2",
    "outputId": "94017bb0-799e-42bd-ee43-45c7979e9a72"
   },
   "outputs": [
    {
     "data": {
      "text/plain": [
       "(47, 48)"
      ]
     },
     "execution_count": 25,
     "metadata": {
      "tags": []
     },
     "output_type": "execute_result"
    }
   ],
   "source": [
    "spisok1, spisok2"
   ]
  },
  {
   "cell_type": "code",
   "execution_count": null,
   "metadata": {
    "id": "LTK6kNz7wPc7",
    "outputId": "4be940df-6382-41cc-dc46-4225148bce5f"
   },
   "outputs": [
    {
     "name": "stdout",
     "output_type": "stream",
     "text": [
      "47, 48\n"
     ]
    }
   ],
   "source": [
    "print(spisok1, spisok2, sep=', ')"
   ]
  },
  {
   "cell_type": "markdown",
   "metadata": {
    "id": "t6Fgb0AkLIPK"
   },
   "source": [
    "### 7.\n",
    "Из приведённого выше списка списков сделайте **срез** с числами `77, 78`. "
   ]
  },
  {
   "cell_type": "code",
   "execution_count": null,
   "metadata": {
    "id": "l1pGFe7uLIPM",
    "outputId": "356bddad-7728-4704-e933-48b7ad54ac94"
   },
   "outputs": [
    {
     "data": {
      "text/plain": [
       "[77, 78]"
      ]
     },
     "execution_count": 29,
     "metadata": {
      "tags": []
     },
     "output_type": "execute_result"
    }
   ],
   "source": [
    "spisok[-2][-2:][0][:-1][1:2][0][1:3]"
   ]
  },
  {
   "cell_type": "code",
   "execution_count": null,
   "metadata": {
    "id": "YCoY4x5CwPdE",
    "outputId": "f6486176-145c-4d61-ba13-6f63dcc8fa86"
   },
   "outputs": [
    {
     "data": {
      "text/plain": [
       "77"
      ]
     },
     "execution_count": 30,
     "metadata": {
      "tags": []
     },
     "output_type": "execute_result"
    }
   ],
   "source": [
    "spisok[-2][-2:][0][:-1][1:2][0][1:3][0]"
   ]
  },
  {
   "cell_type": "code",
   "execution_count": null,
   "metadata": {
    "id": "tq4rZhsEwPdI",
    "outputId": "e34e574f-9c7a-4a07-e972-b1893211c2dd"
   },
   "outputs": [
    {
     "data": {
      "text/plain": [
       "78"
      ]
     },
     "execution_count": 31,
     "metadata": {
      "tags": []
     },
     "output_type": "execute_result"
    }
   ],
   "source": [
    "spisok[-2][-2:][0][:-1][1:2][0][1:3][1]"
   ]
  },
  {
   "cell_type": "code",
   "execution_count": null,
   "metadata": {
    "id": "4jFLMF2iwPdL"
   },
   "outputs": [],
   "source": [
    "spisok1 = spisok[-2][-2:][0][:-1][1:2][0][1:3][0]"
   ]
  },
  {
   "cell_type": "code",
   "execution_count": null,
   "metadata": {
    "id": "tVXN4SOKwPdP"
   },
   "outputs": [],
   "source": [
    "spisok2 = spisok[-2][-2:][0][:-1][1:2][0][1:3][1]"
   ]
  },
  {
   "cell_type": "code",
   "execution_count": null,
   "metadata": {
    "id": "qLwlQ5IswPdW",
    "outputId": "7b44cefe-d30a-4f6e-cc55-c6cf5017a22a"
   },
   "outputs": [
    {
     "data": {
      "text/plain": [
       "(77, 78)"
      ]
     },
     "execution_count": 34,
     "metadata": {
      "tags": []
     },
     "output_type": "execute_result"
    }
   ],
   "source": [
    "spisok1, spisok2"
   ]
  },
  {
   "cell_type": "code",
   "execution_count": null,
   "metadata": {
    "id": "HRuem4sCwPdb",
    "outputId": "ca8acdee-712f-4277-b833-8b3d49ef3be5"
   },
   "outputs": [
    {
     "name": "stdout",
     "output_type": "stream",
     "text": [
      "77, 78\n"
     ]
    }
   ],
   "source": [
    "print(spisok1, spisok2, sep=', ')"
   ]
  },
  {
   "cell_type": "markdown",
   "metadata": {
    "id": "RwOlYKGhLIPR"
   },
   "source": [
    "## Функция range()"
   ]
  },
  {
   "cell_type": "markdown",
   "metadata": {
    "id": "xsF_OmeImQ1t"
   },
   "source": [
    "**Цель блока заданий:** в данном блоке задач вы закрепите навык генерации числовых последовательностей через функцию range(). В дальнейшем функция range() будет часто использоваться в счётных циклах, а также для решения других задач.\n",
    "\n",
    "**Рекомендации к выполнению блока заданий:** обратите внимание, что шаг последовательности может быть как «вперед», так и «назад». Для вывода результата в формате списка можно использовать функцию list().\n",
    "\n",
    "**Критерии оценки:** задания считаются выполненными, если выдача строго соответствует примеру из задания. Использование функций сортировки не допускается."
   ]
  },
  {
   "cell_type": "markdown",
   "metadata": {
    "id": "s2K0_TThLIPR"
   },
   "source": [
    "### 8.\n",
    "С помощью функции `range` сгенерируйте следующую последовательность: <br>\n",
    "`[0, 1, 2, 3, 4]`"
   ]
  },
  {
   "cell_type": "code",
   "execution_count": null,
   "metadata": {
    "id": "vpuvqwqdLIPS",
    "outputId": "f768b3d9-fe97-4d2b-eb88-45b48911260d"
   },
   "outputs": [
    {
     "data": {
      "text/plain": [
       "[0, 1, 2, 3, 4]"
      ]
     },
     "execution_count": 1,
     "metadata": {
      "tags": []
     },
     "output_type": "execute_result"
    }
   ],
   "source": [
    "list(range(5))"
   ]
  },
  {
   "cell_type": "markdown",
   "metadata": {
    "id": "WyhA3ipeLIPU"
   },
   "source": [
    "### 9.\n",
    "С помощью функции `range` сгенерируйте следующую последовательность: <br>\n",
    "`[3, 4]`"
   ]
  },
  {
   "cell_type": "code",
   "execution_count": null,
   "metadata": {
    "id": "WHoyVxCeLIPV",
    "outputId": "d1bca7c4-2d37-4a47-e56d-26af26d76d61"
   },
   "outputs": [
    {
     "data": {
      "text/plain": [
       "[3, 4]"
      ]
     },
     "execution_count": 2,
     "metadata": {
      "tags": []
     },
     "output_type": "execute_result"
    }
   ],
   "source": [
    "list(range(3,5))"
   ]
  },
  {
   "cell_type": "markdown",
   "metadata": {
    "id": "Clfo7jhOLIPY"
   },
   "source": [
    "### 10.\n",
    "С помощью функции `range` сгенерируйте следующую последовательность: <br>\n",
    "`[4, 8, 12, 16]`"
   ]
  },
  {
   "cell_type": "code",
   "execution_count": null,
   "metadata": {
    "id": "WepJj6ZfLIPY",
    "outputId": "1d420f32-11ce-4789-8d05-a1684bc32d33"
   },
   "outputs": [
    {
     "data": {
      "text/plain": [
       "[4, 8, 12, 16]"
      ]
     },
     "execution_count": 3,
     "metadata": {
      "tags": []
     },
     "output_type": "execute_result"
    }
   ],
   "source": [
    "list(range(4,17,4))"
   ]
  },
  {
   "cell_type": "markdown",
   "metadata": {
    "id": "U9glCsGCLIPb"
   },
   "source": [
    "### 11.\n",
    "С помощью функции `range` сгенерируйте следующую последовательность: <br>\n",
    "`[16, 12, 8, 4]`"
   ]
  },
  {
   "cell_type": "code",
   "execution_count": null,
   "metadata": {
    "id": "NDm-DmpTLIPc",
    "outputId": "ff65a557-ad0a-45d6-b62a-84005c7b1c50"
   },
   "outputs": [
    {
     "data": {
      "text/plain": [
       "[16, 12, 8, 4]"
      ]
     },
     "execution_count": 4,
     "metadata": {
      "tags": []
     },
     "output_type": "execute_result"
    }
   ],
   "source": [
    "list(range(16,3,-4))"
   ]
  },
  {
   "cell_type": "markdown",
   "metadata": {
    "id": "CHz6UIKyLIPi"
   },
   "source": [
    "### 12.\n",
    "С помощью функции `range` сгенерируйте следующую последовательность: <br>\n",
    "`[0, 5, 10]`"
   ]
  },
  {
   "cell_type": "code",
   "execution_count": null,
   "metadata": {
    "id": "9C06f5sTLIPj",
    "outputId": "059cfdfc-4f33-411a-ca09-1e04d98f978b"
   },
   "outputs": [
    {
     "data": {
      "text/plain": [
       "[0, 5, 10]"
      ]
     },
     "execution_count": 5,
     "metadata": {
      "tags": []
     },
     "output_type": "execute_result"
    }
   ],
   "source": [
    "list(range(0,11,5))"
   ]
  },
  {
   "cell_type": "markdown",
   "metadata": {
    "id": "ZZehpNQuLIPm"
   },
   "source": [
    "### 13.\n",
    "С помощью функции `range` сгенерируйте следующую последовательность: <br>\n",
    "`[10, 5, 0]`"
   ]
  },
  {
   "cell_type": "code",
   "execution_count": null,
   "metadata": {
    "id": "H4QmyUfZLIPm",
    "outputId": "108dfbed-b73d-4d2e-f514-02837a254951"
   },
   "outputs": [
    {
     "data": {
      "text/plain": [
       "[10, 5, 0]"
      ]
     },
     "execution_count": 6,
     "metadata": {
      "tags": []
     },
     "output_type": "execute_result"
    }
   ],
   "source": [
    "list(range(10,-1,-5))"
   ]
  },
  {
   "cell_type": "markdown",
   "metadata": {
    "id": "kwWQ1al2LIPr"
   },
   "source": [
    "### 14.\n",
    "С помощью функции `range` сгенерируйте следующую последовательность: <br>\n",
    "`[-10, -9, -8, -7, -6, -5, -4, -3, -2, -1]`"
   ]
  },
  {
   "cell_type": "code",
   "execution_count": null,
   "metadata": {
    "id": "85HO3S_cLIPu",
    "outputId": "a6aa5715-c7cb-4091-8e6d-78db4e949881"
   },
   "outputs": [
    {
     "data": {
      "text/plain": [
       "[-10, -9, -8, -7, -6, -5, -4, -3, -2, -1]"
      ]
     },
     "execution_count": 7,
     "metadata": {
      "tags": []
     },
     "output_type": "execute_result"
    }
   ],
   "source": [
    "list(range(-10,0))"
   ]
  },
  {
   "cell_type": "markdown",
   "metadata": {
    "id": "sbCO0FbLLIP3"
   },
   "source": [
    "### 15.\n",
    "С помощью функции `range` сгенерируйте следующую последовательность: <br>\n",
    "`[-10, -16, -22, -28, -34]`"
   ]
  },
  {
   "cell_type": "code",
   "execution_count": null,
   "metadata": {
    "id": "Frychu-HLIP4",
    "outputId": "c4f176ec-68e6-4ac4-fe82-464ccd70ae1e"
   },
   "outputs": [
    {
     "data": {
      "text/plain": [
       "[-10, -16, -22, -28, -34]"
      ]
     },
     "execution_count": 8,
     "metadata": {
      "tags": []
     },
     "output_type": "execute_result"
    }
   ],
   "source": [
    "list(range(-10,-35,-6))"
   ]
  },
  {
   "cell_type": "markdown",
   "metadata": {
    "id": "1Gfu4kFqLIP-"
   },
   "source": [
    "## Операторы и типы данных\n",
    "\n",
    "Этот блок должен быть решён **БЕЗ** использования готовых функций и сторонних библиотек. Используйте операторы."
   ]
  },
  {
   "cell_type": "markdown",
   "metadata": {
    "id": "0csxPvg4mQ3H"
   },
   "source": [
    "**Цель блока заданий:** в данном блоке задач вы потренируетесь в использовании базовых операторов в Python.\n",
    "\n",
    "**Рекомендации к выполнению блока заданий:** выполнить данные задания можно опираясь на знания, полученные в этом и предшествующих модулях. Подумайте, как можно решить задачу простыми инструментами, если вам кажется, что для её выполнения необходим метод, с которым вы не знакомились в этом и предшествующих модулях.\n",
    "\n",
    "**Критерии оценки:** задания считаются выполенными, если программа выводит корректный ответ в нужном формате. Формат выдачи приведён к каждому заданию. В решении не должны быть задействованы циклы, условия, функции, исключения, которые являются темами следующих модулей. Проверка корректности входных значений не требуется."
   ]
  },
  {
   "cell_type": "markdown",
   "metadata": {
    "id": "qnWdcLseLIP_"
   },
   "source": [
    "### 16.\n",
    "Часы показывают время в формате h:mm:ss (количество часов (от 0 до 23), двузначное количество минут, двузначное количество секунд). Количество минут и секунд при необходимости дополняются до двузначного числа нулями.\n",
    "\n",
    "Программа должна запрашивать количество секунд S, которое прошло с начала суток, и выводить в формате h:mm:ss, какое время будут показывать часы. <br><br>\n",
    "\n",
    "*Формат ввода:* <br>\n",
    "3600<br><br>\n",
    "\n",
    "*Формат вывода:* <br>\n",
    "1:00:00"
   ]
  },
  {
   "cell_type": "code",
   "execution_count": null,
   "metadata": {
    "id": "UaM4-TFYLIP_",
    "outputId": "a11c6f42-d949-4daa-aadc-6427771d9048"
   },
   "outputs": [
    {
     "name": "stdout",
     "output_type": "stream",
     "text": [
      "Введите количество секунд: 3600\n",
      "Время:\n",
      "1:00:00\n"
     ]
    }
   ],
   "source": [
    "time = int(input(\"Введите количество секунд: \"))\n",
    "hours = ((time // 60) // 60) % 24\n",
    "minutes = time // 60 % 60\n",
    "minutes1 = str(minutes // 10)\n",
    "minutes2 = str(minutes % 10)\n",
    "minutes = minutes1 + minutes2\n",
    "seconds = time % 60\n",
    "seconds1 = str(seconds // 10)\n",
    "seconds2 = str(seconds % 10)\n",
    "seconds = seconds1 + seconds2               \n",
    "print('Время:')\n",
    "print(hours, minutes, seconds, sep = ':')"
   ]
  },
  {
   "cell_type": "markdown",
   "metadata": {
    "id": "BnxMhHlDLIQB"
   },
   "source": [
    "### 17.\n",
    "Машина выезжает на нулевой километр МКАД и едет по часовой стрелке с постоянной скоростью V километров в час. На каком километре МКАД машина окажется через T часов? \n",
    "<br> Длина МКАД: 109 км. <br><br> \n",
    "\n",
    "*Формат ввода:* <br>\n",
    "60 <br>\n",
    "1\n",
    "<br><br>\n",
    "*Формат вывода:* <br>\n",
    "60"
   ]
  },
  {
   "cell_type": "code",
   "execution_count": null,
   "metadata": {
    "id": "66aeGuRbLIQC",
    "outputId": "7941fa93-5a1b-4a72-80ca-8ba9dde9953a"
   },
   "outputs": [
    {
     "name": "stdout",
     "output_type": "stream",
     "text": [
      "Введите скорость: 60\n",
      "Введите количество часов: 1\n",
      "Километр МКАД: 60\n"
     ]
    }
   ],
   "source": [
    "velocity = int(input(\"Введите скорость: \"))\n",
    "time = int(input(\"Введите количество часов: \"))\n",
    "length = 109\n",
    "print('Километр МКАД:', (velocity * time) % length)"
   ]
  },
  {
   "cell_type": "markdown",
   "metadata": {
    "id": "ZxMi6_58LIQG"
   },
   "source": [
    "### 18.\n",
    "Напишите программу, которая запрашивает целое пятизначное число и выводит сумму его цифр.\n",
    "\n",
    "*Формат ввода:* <br>\n",
    "11111\n",
    "<br><br>\n",
    "*Формат вывода:* <br>\n",
    "5"
   ]
  },
  {
   "cell_type": "code",
   "execution_count": null,
   "metadata": {
    "id": "wasIkbwELIQH",
    "outputId": "866efba8-c391-4fda-82d2-128cf1befa3b"
   },
   "outputs": [
    {
     "name": "stdout",
     "output_type": "stream",
     "text": [
      "Введите целое пятизначное число:\n",
      "11111\n",
      "Сумма всех чисел:\n",
      "5\n"
     ]
    }
   ],
   "source": [
    "print(\"Введите целое пятизначное число:\")\n",
    "chislo = input()\n",
    "spisok = list(chislo)\n",
    "spisok_int = [int(x) for (x) in spisok]\n",
    "print(\"Сумма всех чисел:\")\n",
    "print(sum(spisok_int))"
   ]
  },
  {
   "cell_type": "markdown",
   "metadata": {
    "id": "6q6JEgziLIQK"
   },
   "source": [
    "### 19.\n",
    "Напишите программу, которая запрашивает целое четырёхзначное число и меняет местами его две первые и две последние цифры.\n",
    "\n",
    "*Формат ввода:* <br>\n",
    "5236 \n",
    "<br><br>\n",
    "*Формат вывода:* <br>\n",
    "3652"
   ]
  },
  {
   "cell_type": "code",
   "execution_count": null,
   "metadata": {
    "id": "tupFycemLIQK",
    "outputId": "d15e7058-8033-4c0f-a959-1faf0de632dc"
   },
   "outputs": [
    {
     "name": "stdout",
     "output_type": "stream",
     "text": [
      "Введите целое четырёхзначное число: 5236\n",
      "Вывод: 3652\n"
     ]
    }
   ],
   "source": [
    "chislo = int(input(\"Введите целое четырёхзначное число: \"))\n",
    "print('Вывод: ', chislo % 100, chislo // 100, sep ='')"
   ]
  },
  {
   "cell_type": "markdown",
   "metadata": {
    "id": "3NglY6CQLIQN"
   },
   "source": [
    "20.\n",
    "Напишите программу, которая на основании параметра D (сколько километров в день преодолевает машина) рассчитывает, сколько дней она затратит на путь длиной P километров.  <br><br>\n",
    "*Формат ввода:* <br>\n",
    "105 <br>\n",
    "120\n",
    "<br><br>\n",
    "*Формат вывода:* <br>\n",
    "2"
   ]
  },
  {
   "cell_type": "code",
   "execution_count": null,
   "metadata": {
    "id": "7sCggR--LIQN",
    "outputId": "cc7fadbe-8a37-45d1-8150-d23a024c9ab9"
   },
   "outputs": [
    {
     "name": "stdout",
     "output_type": "stream",
     "text": [
      "Введите сколько километров в день преодолевает машина: 105\n",
      "Введите длину пути, км: 120\n",
      "Дни: 2\n"
     ]
    }
   ],
   "source": [
    "distance_day = int(input(\"Введите сколько километров в день преодолевает машина: \"))\n",
    "total_distance = int(input(\"Введите длину пути, км: \"))\n",
    "print('Дни:', (distance_day + total_distance) // distance_day)"
   ]
  },
  {
   "cell_type": "markdown",
   "metadata": {
    "id": "oWERt2BRLIQR"
   },
   "source": [
    "### 21.\n",
    "Напишите программу, которая считает, сколько рублей и копеек нужно заплатить за N авокадо, если одно авокадо стоит R рублей и K копеек. <br><br>\n",
    "*Формат ввода:* <br>\n",
    "40 20 <br>\n",
    "5\n",
    "<br><br>\n",
    "*Формат вывода:* <br>\n",
    "201 руб. 00 коп."
   ]
  },
  {
   "cell_type": "code",
   "execution_count": null,
   "metadata": {
    "id": "Zvx5ybP7LIQU",
    "outputId": "4dd4febb-e869-49e6-e7de-e2d3db1fab57"
   },
   "outputs": [
    {
     "name": "stdout",
     "output_type": "stream",
     "text": [
      "Введите стоимость авокадо, рубли : 40\n",
      "Введите стоимость авокадо, копейки : 20\n",
      "Введите количество авокадо: 5\n",
      "Стоимость: 201 руб. 0 коп.\n"
     ]
    }
   ],
   "source": [
    "rubli_enter = int(input(\"Введите стоимость авокадо, рубли : \"))\n",
    "kopeek_enter = int(input(\"Введите стоимость авокадо, копейки : \"))\n",
    "quantity = int(input(\"Введите количество авокадо: \"))\n",
    "price = (100 * rubli_enter) + kopeek_enter\n",
    "total_price = price * quantity\n",
    "rubli = total_price // 100 \n",
    "kopeek = total_price % 100\n",
    "print('Стоимость:', rubli, 'руб.', kopeek, 'коп.')"
   ]
  },
  {
   "cell_type": "markdown",
   "metadata": {
    "id": "Q0u91-MILIQX"
   },
   "source": [
    "### 22.\n",
    "Пусть организаторы мероприятия неправильно составили гугл-форму и просили людей указывать ФИО в неправильном порядке. Сначала спрашивали имя, потом отчество, затем фамилию. Напишите программу, которая будет переставлять ФИО в нужный порядок. <br> <br> \n",
    "\n",
    "*Формат ввода:* <br>\n",
    "Иван Иванович Иванов<br><br>\n",
    "*Формат вывода:* <br>\n",
    "Иванов Иван Иванович"
   ]
  },
  {
   "cell_type": "code",
   "execution_count": null,
   "metadata": {
    "id": "hrXguBL7LIQX",
    "outputId": "803a41b4-6b34-4323-88d1-4bb906144d17"
   },
   "outputs": [
    {
     "name": "stdout",
     "output_type": "stream",
     "text": [
      "Введите Имя Отчество Фамилию: Иван Иванович Иванов\n",
      "Фамилия Имя Отчество: Иванов Иван Иванович\n"
     ]
    }
   ],
   "source": [
    "wrong_name = input('Введите Имя Отчество Фамилию: ')\n",
    "full_name = ' '.join(wrong_name.split()[2:] + wrong_name.split()[:2])\n",
    "print('Фамилия Имя Отчество:',full_name)"
   ]
  },
  {
   "cell_type": "markdown",
   "metadata": {
    "id": "vwexBPelLIQb"
   },
   "source": [
    "## Cловари и списки"
   ]
  },
  {
   "cell_type": "markdown",
   "metadata": {
    "id": "K51IjN6QmQ30"
   },
   "source": [
    "**Цель блока заданий:** в данном блоке задач вы зарепите навык работы со словарями и списками. В текущем блоке также пригодятся навыки, отработанные в первом блоке настоящего домашнего задания.\n",
    "\n",
    "**Рекомендации к выполнению блока заданий:** попробуйте работать с большим словарём по тому же принципу, по которому вы вызывали составные элементы из большого списка в первом блоке заданий настоящей работы. Поэтапно вызывайте сначала один многосоставный объект, затем из него извлеките другой, но уже меньший, пока не доберётесь до целевого элемента.\n",
    "\n",
    "**Критерии оценки:** задания считаются выполненными, если произошли нужные изменения (или их отстутсвие, если того требует условие задания), но при этом не произошло никаких других изменений, которые не описаны в задании. Обратите, пожалуйста, внимание, что программа в 23-й задаче должна быть универсальной, то есть работать не только для нулевого элемента."
   ]
  },
  {
   "cell_type": "markdown",
   "metadata": {
    "id": "nIgc10tKLIQc"
   },
   "source": [
    "### 23.\n",
    "У вас есть список с заказом в ресторане. Напишите программу, которая меняет указанное по названию блюдо на другое. При этом новое блюдо в списке будет расположено на месте того, что было заменено.\n",
    "\n",
    "*Формат ввода:* <br>\n",
    "белое вино<br>\n",
    "красное вино <br><br>\n",
    "*Формат вывода:* <br>\n",
    "`['красное вино', 'салат Цезарь', 'паста Карбонара', 'чизкейк', 'шоколадный сорбет']`"
   ]
  },
  {
   "cell_type": "code",
   "execution_count": null,
   "metadata": {
    "id": "O0k3dslvLIQd"
   },
   "outputs": [],
   "source": [
    "order = ['белое вино', 'салат Цезарь', 'паста Карбонара', 'чизкейк', 'шоколадный сорбет']"
   ]
  },
  {
   "cell_type": "code",
   "execution_count": null,
   "metadata": {
    "id": "D9s6foo_LIQh",
    "outputId": "fa71476f-0248-4e10-ff3e-a9d9fc547918"
   },
   "outputs": [
    {
     "name": "stdout",
     "output_type": "stream",
     "text": [
      "Введите блюдо из меню: белое вино\n",
      "Введите новое блюдо: красное вино\n",
      "Новое меню: ['красное вино', 'салат Цезарь', 'паста Карбонара', 'чизкейк', 'шоколадный сорбет']\n"
     ]
    }
   ],
   "source": [
    "order = ['белое вино', 'салат Цезарь', 'паста Карбонара', 'чизкейк', 'шоколадный сорбет']\n",
    "previous_order = input(\"Введите блюдо из меню: \")\n",
    "new_order = input(\"Введите новое блюдо: \")\n",
    "znach = order.index(previous_order)\n",
    "order.remove(previous_order)\n",
    "order.insert(znach, new_order)\n",
    "print('Новое меню:', order)"
   ]
  },
  {
   "cell_type": "markdown",
   "metadata": {
    "id": "GLx0EKUiLIQj"
   },
   "source": [
    "__________________\n",
    "Вам дан словарь c расписанием на неделю. "
   ]
  },
  {
   "cell_type": "code",
   "execution_count": null,
   "metadata": {
    "id": "fbPqWtv_LIQl"
   },
   "outputs": [],
   "source": [
    "diary = {'понедельник': {\n",
    "                          'утро': ['погулять с собакой'],\n",
    "                          'день': [],\n",
    "                          'вечер': ['погулять с собакой']\n",
    "                                      },\n",
    "        'вторник': {\n",
    "                          'утро': ['погулять с собакой'],\n",
    "                          'день': [],\n",
    "                          'вечер': ['погулять с собакой']\n",
    "                                      },\n",
    "        'среда': {\n",
    "                          'утро': ['погулять с собакой'],\n",
    "                          'день': [],\n",
    "                          'вечер': ['погулять с собакой']\n",
    "                                      },\n",
    "        'четверг': {\n",
    "                          'утро': ['погулять с собакой'],\n",
    "                          'день': [],\n",
    "                          'вечер': ['погулять с собакой']\n",
    "                                      },\n",
    "        'пятница': {\n",
    "                          'утро': ['заехать в шиномонтаж', 'помыть машину'],\n",
    "                          'день': [],\n",
    "                          'вечер': ['поход в театр',  'ужин в кафе']\n",
    "                                      },\n",
    "        'суббота': {\n",
    "                          'утро': [],\n",
    "                          'день': [],\n",
    "                          'вечер': []\n",
    "                                      },\n",
    "        'воскресенье': {\n",
    "                          'утро': [],\n",
    "                          'день': [],\n",
    "                          'вечер': []\n",
    "                                      }}"
   ]
  },
  {
   "cell_type": "markdown",
   "metadata": {
    "id": "3FocVZkgLIQn"
   },
   "source": [
    "### 24.\n",
    "Удалите ключи `суббота` и `воскресенье`. Вместо них добавьте пару, где ключ — это кортеж `суббота, воскресенье`, а значение — список с делом `посадить цветы на даче`. Можно ли сделать ключ `суббота, воскресенье` списком?"
   ]
  },
  {
   "cell_type": "code",
   "execution_count": null,
   "metadata": {
    "id": "lcw8GWcnLIQo",
    "outputId": "4e2fd176-0753-4f05-e895-5b8734a5a0bf"
   },
   "outputs": [
    {
     "data": {
      "text/plain": [
       "{'утро': [], 'день': [], 'вечер': []}"
      ]
     },
     "execution_count": 2,
     "metadata": {
      "tags": []
     },
     "output_type": "execute_result"
    }
   ],
   "source": [
    "diary.pop('суббота')\n",
    "diary.pop('воскресенье')"
   ]
  },
  {
   "cell_type": "code",
   "execution_count": null,
   "metadata": {
    "id": "7GXy3gTewPfJ",
    "outputId": "1788bb94-8d5b-42ca-c844-c8357ba8cd74"
   },
   "outputs": [
    {
     "name": "stdout",
     "output_type": "stream",
     "text": [
      "{'понедельник': {'утро': ['погулять с собакой'], 'день': [], 'вечер': ['погулять с собакой']}, 'вторник': {'утро': ['погулять с собакой'], 'день': [], 'вечер': ['погулять с собакой']}, 'среда': {'утро': ['погулять с собакой'], 'день': [], 'вечер': ['погулять с собакой']}, 'четверг': {'утро': ['погулять с собакой'], 'день': [], 'вечер': ['погулять с собакой']}, 'пятница': {'утро': ['заехать в шиномонтаж', 'помыть машину'], 'день': [], 'вечер': ['поход в театр', 'ужин в кафе']}, ('суббота', 'воскресенье'): ['посадить цветы на даче']}\n"
     ]
    }
   ],
   "source": [
    "diary[('суббота', 'воскресенье')] = ['посадить цветы на даче']\n",
    "print(diary)"
   ]
  },
  {
   "cell_type": "markdown",
   "metadata": {
    "id": "FUsTxKbrwPfO"
   },
   "source": [
    "Ключом в словаре может быть только неизменяемый объект. Список изменяемый объект. Ответ - нельзя."
   ]
  },
  {
   "cell_type": "markdown",
   "metadata": {
    "id": "vVhNCrtLLIQs"
   },
   "source": [
    "### 25.\n",
    "Добавьте в список дел во вторник утром `поход к зубному`."
   ]
  },
  {
   "cell_type": "code",
   "execution_count": null,
   "metadata": {
    "id": "R4BiwaWlLIQu",
    "outputId": "97e7d56b-f5be-406f-d897-e9bbfb8ca6ba"
   },
   "outputs": [
    {
     "name": "stdout",
     "output_type": "stream",
     "text": [
      "{'понедельник': {'утро': ['погулять с собакой'], 'день': [], 'вечер': ['погулять с собакой']}, 'вторник': {'утро': ['погулять с собакой', 'поход к зубному']}, 'среда': {'утро': ['погулять с собакой'], 'день': [], 'вечер': ['погулять с собакой']}, 'четверг': {'утро': ['погулять с собакой'], 'день': [], 'вечер': ['погулять с собакой']}, 'пятница': {'утро': ['заехать в шиномонтаж', 'помыть машину'], 'день': [], 'вечер': ['поход в театр', 'ужин в кафе']}, ('суббота', 'воскресенье'): ['посадить цветы на даче']}\n"
     ]
    }
   ],
   "source": [
    "diary.update({'вторник': {'утро': ['погулять с собакой', 'поход к зубному']}})\n",
    "print(diary)"
   ]
  },
  {
   "cell_type": "markdown",
   "metadata": {
    "id": "BPQ5R-PkLIQ2"
   },
   "source": [
    "### 26.\n",
    "Замените `поход в театр` на `поход в кино` в списке дел в пятницу вечером."
   ]
  },
  {
   "cell_type": "code",
   "execution_count": null,
   "metadata": {
    "id": "nhqzOrZILIQ5",
    "outputId": "7a912aee-ef2a-46e2-f502-e8ca045b0508"
   },
   "outputs": [
    {
     "name": "stdout",
     "output_type": "stream",
     "text": [
      "{'понедельник': {'утро': ['погулять с собакой'], 'день': [], 'вечер': ['погулять с собакой']}, 'вторник': {'утро': ['погулять с собакой'], 'день': [], 'вечер': ['погулять с собакой']}, 'среда': {'утро': ['погулять с собакой'], 'день': [], 'вечер': ['погулять с собакой']}, 'четверг': {'утро': ['погулять с собакой'], 'день': [], 'вечер': ['погулять с собакой']}, 'пятница': {'утро': ['заехать в шиномонтаж', 'помыть машину'], 'день': [], 'вечер': ['поход в кино', 'ужин в кафе']}, 'суббота': {'утро': [], 'день': [], 'вечер': []}, 'воскресенье': {'утро': [], 'день': [], 'вечер': []}}\n"
     ]
    }
   ],
   "source": [
    "diary.update({'пятница': {'утро': ['заехать в шиномонтаж', 'помыть машину'],\n",
    "                          'день': [],\n",
    "                          'вечер': ['поход в кино',  'ужин в кафе'] }})\n",
    "print(diary)"
   ]
  },
  {
   "cell_type": "markdown",
   "metadata": {
    "id": "HCE0aq_BLIQ7"
   },
   "source": [
    "### 27.\n",
    "Ваш друг вернётся из отпуска на один день раньше, поэтому он заберёт свою собаку в среду, а не в четверг. Удалите дело `погулять с собакой` из соответствующих списков."
   ]
  },
  {
   "cell_type": "code",
   "execution_count": null,
   "metadata": {
    "id": "WPnIXdTVLIQ7",
    "outputId": "8c01459d-3fed-415c-989a-1eec4b40c1bc"
   },
   "outputs": [
    {
     "name": "stdout",
     "output_type": "stream",
     "text": [
      "{'понедельник': {'утро': ['погулять с собакой'], 'день': [], 'вечер': ['погулять с собакой']}, 'вторник': {'утро': ['погулять с собакой'], 'день': [], 'вечер': ['погулять с собакой']}, 'среда': {'утро': [], 'день': [], 'вечер': []}, 'четверг': {'утро': [], 'день': [], 'вечер': []}, 'пятница': {'утро': ['заехать в шиномонтаж', 'помыть машину'], 'день': [], 'вечер': ['поход в кино', 'ужин в кафе']}, 'суббота': {'утро': [], 'день': [], 'вечер': []}, 'воскресенье': {'утро': [], 'день': [], 'вечер': []}}\n"
     ]
    }
   ],
   "source": [
    "diary.update({'среда': {'утро': [], 'день': [], 'вечер': []},\n",
    "              'четверг': {'утро': [],'день': [], 'вечер': []}})\n",
    "print(diary)"
   ]
  },
  {
   "cell_type": "markdown",
   "metadata": {
    "id": "A80KVUrZLIQ9"
   },
   "source": [
    "### 28.\n",
    "Выведите второе дело из списка дел, которые вам нужно сделать в пятницу утром."
   ]
  },
  {
   "cell_type": "code",
   "execution_count": null,
   "metadata": {
    "id": "ofqEBNuZLIQ-",
    "outputId": "ae7cc221-a162-4984-8b1b-f67187b38ef5"
   },
   "outputs": [
    {
     "name": "stdout",
     "output_type": "stream",
     "text": [
      "{'пятница': {'утро': ['заехать в шиномонтаж', 'помыть машину'], 'день': [], 'вечер': ['поход в театр', 'ужин в кафе']}}\n"
     ]
    }
   ],
   "source": [
    "del diary['понедельник']\n",
    "del diary['вторник']\n",
    "del diary['среда']\n",
    "del diary['четверг']\n",
    "del diary['суббота']\n",
    "del diary['воскресенье']\n",
    "print(diary)"
   ]
  },
  {
   "cell_type": "code",
   "execution_count": null,
   "metadata": {
    "id": "k9eVlX-uwPfj",
    "outputId": "6d7fe7c5-857a-49f0-e6d9-52b1ad9ceaf2"
   },
   "outputs": [
    {
     "name": "stdout",
     "output_type": "stream",
     "text": [
      "помыть машину\n"
     ]
    }
   ],
   "source": [
    "print(diary['пятница']['утро'][1])"
   ]
  }
 ],
 "metadata": {
  "colab": {
   "collapsed_sections": [
    "t6Fgb0AkLIPK",
    "s2K0_TThLIPR",
    "WyhA3ipeLIPU",
    "Clfo7jhOLIPY",
    "U9glCsGCLIPb",
    "CHz6UIKyLIPi",
    "ZZehpNQuLIPm",
    "kwWQ1al2LIPr",
    "qnWdcLseLIP_",
    "BnxMhHlDLIQB",
    "ZxMi6_58LIQG",
    "6q6JEgziLIQK",
    "3NglY6CQLIQN",
    "oWERt2BRLIQR",
    "Q0u91-MILIQX",
    "nIgc10tKLIQc",
    "3FocVZkgLIQn",
    "vVhNCrtLLIQs",
    "BPQ5R-PkLIQ2",
    "HCE0aq_BLIQ7"
   ],
   "name": "homework2(AN).ipynb",
   "provenance": []
  },
  "kernelspec": {
   "display_name": "Python 3",
   "language": "python",
   "name": "python3"
  },
  "language_info": {
   "codemirror_mode": {
    "name": "ipython",
    "version": 3
   },
   "file_extension": ".py",
   "mimetype": "text/x-python",
   "name": "python",
   "nbconvert_exporter": "python",
   "pygments_lexer": "ipython3",
   "version": "3.8.3"
  }
 },
 "nbformat": 4,
 "nbformat_minor": 0
}
